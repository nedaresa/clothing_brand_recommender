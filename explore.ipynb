{
 "cells": [
  {
   "cell_type": "code",
   "execution_count": null,
   "metadata": {},
   "outputs": [],
   "source": [
    "import json\n",
    "import pandas as pd\n",
    "#!pip install openai -U\n",
    "from openai import OpenAI\n",
    "from enum import Enum\n",
    "from typing import Optional, List\n",
    "from pydantic import BaseModel\n",
    "from pydantic import Field"
   ]
  },
  {
   "cell_type": "code",
   "execution_count": null,
   "metadata": {},
   "outputs": [],
   "source": [
    "with open('../key/key.json') as f:\n",
    "    k = json.load(f)['key']"
   ]
  },
  {
   "cell_type": "code",
   "execution_count": null,
   "metadata": {},
   "outputs": [],
   "source": [
    "# create one time list of 10 human emotions\n",
    "client = OpenAI(api_key=k)\n",
    "class Chr_answer(BaseModel):\n",
    "    Characteristics: List[str] = Field(None, description=\"Emotions as a list of strings\")\n",
    "\n",
    "#few shot prompt with api\n",
    "completion = client.beta.chat.completions.parse(\n",
    "    model=\"gpt-4o-2024-08-06\",\n",
    "    messages=[\n",
    "        {\"role\": \"system\", \"content\": \"Be a helpful assistant.\"},\n",
    "        {\"role\": \"system\", \"content\": \"Find 50 non-redundant human emotions. These emotions should be different from one another, meaning that for example, of the emotions 'joy' and 'happiness', only pick one. Of 'Shame' and 'Embarrassment' and of 'Envy' and 'Jealousy', only pick one. So on and so forth.\"},\n",
    "        {\"role\": \"system\", \"content\": \"Stop finding if you've already found 50.\"},\n",
    "        {\"role\": \"system\", \"content\": \"DONT MAKE ANY MISTAKES, check if you did any.\"},\n",
    "        {\"role\": \"user\", \"content\": \"Give me about 50 emotions addressing non-redundant and different human feelings.\"}\n",
    "    ],\n",
    "    response_format=Chr_answer,\n",
    ")\n",
    "\n",
    "#you can also proceed from parsed eg json.loads(completion_song.choices[0].message.parsed.json())\n",
    "out = json.loads(completion.choices[0].message.content)\n",
    "out = list(out.values())[0]\n",
    "emotions = out\n",
    "print(emotions)\n",
    "print(len(emotions))"
   ]
  },
  {
   "cell_type": "code",
   "execution_count": null,
   "metadata": {},
   "outputs": [],
   "source": [
    "#List 10 best selling American clothing brands and, for each brand, list which one of the emotions in the given list are most closely associated with.\"\n",
    "client = OpenAI(api_key=k)\n",
    "\n",
    "Characteristic = Enum('Characteristic', dict([(i, i) for i in emotions])) #MyEnumType = Enum('MyEnumType', myEnumStrings)\n",
    "\n",
    "class BrandAttributes(BaseModel):\n",
    "    brand_name: str = Field(None, description=\" name as str\")\n",
    "    characteristics: List[Characteristic] = Field(None, description=\" list of characteristics as str\")\n",
    "\n",
    "class BrandChars(BaseModel):\n",
    "    a: List[BrandAttributes] = Field(None, description=\"List of BrandAttributes\")\n",
    "    \n",
    "completion = client.beta.chat.completions.parse(\n",
    "    model=\"gpt-4o-2024-08-06\",\n",
    "    messages=[\n",
    "        {\"role\": \"system\", \"content\": \"Be a helpful assistant.\"},\n",
    "        {\"role\": \"user\", \"content\": \"List 30 best selling American clothing brands and, for each brand, list which one of the emotions in the given list are most closely associated with.\"}\n",
    "    ],\n",
    "    response_format=BrandChars,\n",
    ")\n",
    "\n",
    "out = json.loads(completion.choices[0].message.content)\n",
    "brand_emotions = out\n",
    "out = list(out.values())[0]\n",
    "df_brand = pd.DataFrame(data = [i.values() for i in out], columns = ['Name','characteristic'])\n",
    "df_brand"
   ]
  },
  {
   "cell_type": "code",
   "execution_count": null,
   "metadata": {},
   "outputs": [],
   "source": [
    "#Take the example song, and list which one of the emotions in the given list are most closely associated with the song.\")\n",
    "\n",
    "client = OpenAI(api_key=k)\n",
    "\n",
    "Characteristic = Enum('Characteristic', dict([(i, i) for i in emotions])) \n",
    "\n",
    "class SongAttributes(BaseModel):\n",
    "    song_name: str\n",
    "    song_lyrics_summary :str = Field(None, description=\"Summary as str; Don't state the exact lyrics.\")\n",
    "    characteristics: List[Characteristic]\n",
    "\n",
    "class SongsChars(BaseModel):\n",
    "    a: List[SongAttributes] = Field(None, description=\"List of song attributes.\")\n",
    "\n",
    "prompt = \"\"\"\n",
    "As prompt, take the song 'Black Balloon', list summary of its lyrics, and a list of the emotions from the given list that are most closely associated with the song.\n",
    "\"\"\"\n",
    "\n",
    "completion = client.beta.chat.completions.parse(\n",
    "    model=\"gpt-4o-2024-08-06\",\n",
    "    messages=[\n",
    "        {\"role\": \"system\", \"content\": \"Be a helpful assistant.\"},\n",
    "        {\"role\": \"user\", \"content\": prompt}\n",
    "    ],\n",
    "    response_format=SongsChars,\n",
    ")\n",
    "out = json.loads(completion.choices[0].message.content)\n",
    "out = list(out.values())[0]\n",
    "df_song = pd.DataFrame(data = [i.values() for i in out], columns = ['Name','lyrics_summary', 'characteristic'])\n",
    "df_song"
   ]
  },
  {
   "cell_type": "code",
   "execution_count": null,
   "metadata": {},
   "outputs": [],
   "source": [
    "#MultilabelBinarize brands and song\n",
    "from sklearn.preprocessing import MultiLabelBinarizer\n",
    "\n",
    "mlb = MultiLabelBinarizer(classes=emotions)\n",
    "\n",
    "df_brand2 = pd.DataFrame(mlb.fit_transform(df_brand['characteristic']), columns = emotions)\n",
    "df_brand_mb = pd.merge(df_brand2, df_brand[['Name']], how ='left', left_index=True, right_index=True)\n",
    "df_brand_mb.head()\n"
   ]
  },
  {
   "cell_type": "code",
   "execution_count": null,
   "metadata": {},
   "outputs": [],
   "source": [
    "mlb = MultiLabelBinarizer(classes=emotions)\n",
    "\n",
    "df_song2 = pd.DataFrame(mlb.fit_transform(df_song['characteristic']), columns = emotions)\n",
    "df_song_mb = pd.merge(df_song2, df_song[['Name']], how ='left', left_index=True, right_index=True)\n",
    "df_song_mb.head()\n",
    "\n",
    "#song_e = list(song_emotions[0].values())[2]\n",
    "\n",
    "#df_song = pd.DataFrame(mlb.fit_transform([song_e]), columns = emotions, index=[list(song_emotions[0].keys())[0]])\n",
    "#df_song"
   ]
  },
  {
   "cell_type": "code",
   "execution_count": null,
   "metadata": {},
   "outputs": [],
   "source": [
    "df_b_T = df_brand_mb.set_index('Name').T\n",
    "df_s_T = df_song_mb.set_index('Name').T\n",
    "\n",
    "df_s_T"
   ]
  },
  {
   "cell_type": "code",
   "execution_count": null,
   "metadata": {},
   "outputs": [],
   "source": [
    "#no correlation, makes sense as this song is mainly sad\n",
    "df_b_T.corrwith(df_s_T, axis = 1)"
   ]
  },
  {
   "cell_type": "code",
   "execution_count": null,
   "metadata": {},
   "outputs": [],
   "source": []
  }
 ],
 "metadata": {
  "kernelspec": {
   "display_name": "ds",
   "language": "python",
   "name": "python3"
  },
  "language_info": {
   "codemirror_mode": {
    "name": "ipython",
    "version": 3
   },
   "file_extension": ".py",
   "mimetype": "text/x-python",
   "name": "python",
   "nbconvert_exporter": "python",
   "pygments_lexer": "ipython3",
   "version": "3.8.16"
  }
 },
 "nbformat": 4,
 "nbformat_minor": 2
}
