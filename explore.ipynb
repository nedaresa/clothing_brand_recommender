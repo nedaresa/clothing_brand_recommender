{
 "cells": [
  {
   "cell_type": "code",
   "execution_count": null,
   "metadata": {},
   "outputs": [],
   "source": [
    "import json\n",
    "import pandas as pd\n",
    "from openai import OpenAI\n",
    "from io import StringIO\n",
    "import re\n"
   ]
  },
  {
   "cell_type": "code",
   "execution_count": null,
   "metadata": {},
   "outputs": [],
   "source": [
    "with open('../key/key.json') as f:\n",
    "    k = json.load(f)['key']"
   ]
  },
  {
   "cell_type": "code",
   "execution_count": null,
   "metadata": {},
   "outputs": [],
   "source": [
    "client = OpenAI(api_key=k)"
   ]
  },
  {
   "cell_type": "code",
   "execution_count": null,
   "metadata": {},
   "outputs": [],
   "source": [
    "#!pip install openai -U"
   ]
  },
  {
   "cell_type": "code",
   "execution_count": null,
   "metadata": {},
   "outputs": [],
   "source": [
    "from enum import Enum\n",
    "from typing import Optional, List\n",
    "from pydantic import BaseModel\n",
    "from pydantic import Field\n",
    "from openai import OpenAI\n",
    "\n",
    "client = OpenAI(api_key=k)\n",
    "\n",
    "class Category(Enum):\n",
    "    violence = \"violence\"\n",
    "    sexual = \"sexual\"\n",
    "    self_harm = \"self_harm\"\n",
    "\n",
    "class ContentCompliance(BaseModel):\n",
    "    is_violating: bool\n",
    "    category: Optional[Category]\n",
    "    explanation_if_violating: Optional[str]\n",
    "\n",
    "class Brand(BaseModel):\n",
    "    name: str\n",
    "    characteristics: List[str] = Field(None, description=\"Fabrics the brand uses.\")\n",
    "\n",
    "class Brand_answer(BaseModel):\n",
    "    a: List[Brand]\n",
    "\n",
    "\n",
    "completion_song = client.beta.chat.completions.parse(\n",
    "    model=\"gpt-4o-2024-08-06\",\n",
    "    messages=[\n",
    "        {\"role\": \"system\", \"content\": \"Be a helpful assistant.\"},\n",
    "        {\"role\": \"user\", \"content\": \"Name 10 best selling songs and for each song list 2 single word dominant emotions that the song inspires. No singer names.\"}\n",
    "    ],\n",
    "    response_format=Brand_answer,\n",
    ")"
   ]
  },
  {
   "cell_type": "code",
   "execution_count": null,
   "metadata": {},
   "outputs": [],
   "source": [
    "client = OpenAI(api_key=k)\n",
    "\n",
    "class Category(Enum):\n",
    "    violence = \"violence\"\n",
    "    sexual = \"sexual\"\n",
    "    self_harm = \"self_harm\"\n",
    "\n",
    "class ContentCompliance(BaseModel):\n",
    "    is_violating: bool\n",
    "    category: Optional[Category]\n",
    "    explanation_if_violating: Optional[str]\n",
    "\n",
    "class Brand(BaseModel):\n",
    "    name: str\n",
    "    characteristics: List[str] = Field(None, description=\"Fabrics the brand uses.\")\n",
    "\n",
    "class Brand_answer(BaseModel):\n",
    "    a: List[Brand]\n",
    "\n",
    "\n",
    "completion_brand = client.beta.chat.completions.parse(\n",
    "    model=\"gpt-4o-2024-08-06\",\n",
    "    messages=[\n",
    "        {\"role\": \"system\", \"content\": \"Be a helpful assistant.\"},\n",
    "        {\"role\": \"user\", \"content\": \"Give me a list of 10 top selling both gender clothing brand names in US.\"}\n",
    "    ],\n",
    "    response_format=Brand_answer,\n",
    ")"
   ]
  },
  {
   "cell_type": "code",
   "execution_count": null,
   "metadata": {},
   "outputs": [],
   "source": [
    "[i.values() for i in list(songs.values())[0]]"
   ]
  },
  {
   "cell_type": "code",
   "execution_count": null,
   "metadata": {},
   "outputs": [],
   "source": [
    "from enum import Enum\n",
    "\n",
    "class Characteristic(Enum):\n",
    "    SAD = \"sad\"\n",
    "    JOYFUL = \"joyful\"\n",
    "    ANGRY = \"angry\"\n",
    "    CALM = \"calm\"\n",
    "    ENERGETIC = \"energetic\"\n",
    "    PEACEFUL = \"peaceful\"\n",
    "    FUNKY = \"funky\"\n",
    "    VIBRANT = \"vibrant\"\n",
    "    MELLOW = \"mellow\"\n",
    "    MELANCHOLIC = \"melancholic\"\n",
    "    EXUBERANT = \"exuberant\"\n",
    "    SERENE = \"serene\"\n",
    "    MYSTERIOUS = \"mysterious\"\n",
    "    SOMBER = \"somber\"\n",
    "    CHEERFUL = \"cheerful\"\n",
    "    DRAMATIC = \"dramatic\"\n",
    "    PLAYFUL = \"playful\"\n",
    "    ROMANTIC = \"romantic\"\n",
    "    DREAMY = \"dreamy\"\n",
    "    BOLD = \"bold\"\n",
    "    DELICATE = \"delicate\"\n",
    "    WHIMSICAL = \"whimsical\"\n",
    "    ELEGANT = \"elegant\"\n",
    "    GRITTY = \"gritty\"\n",
    "    GLOOMY = \"gloomy\"\n",
    "    ETHEREAL = \"ethereal\"\n",
    "    SPIRITED = \"spirited\"\n",
    "    LYRICAL = \"lyrical\"\n",
    "    TENSE = \"tense\"\n",
    "    SULTRY = \"sultry\"\n",
    "    INTENSE = \"intense\"\n",
    "    TRANQUIL = \"tranquil\"\n",
    "    EXCITING = \"exciting\"\n",
    "    WARM = \"warm\"\n",
    "    COOL = \"cool\"\n",
    "    HOPEFUL = \"hopeful\"\n",
    "    ANXIOUS = \"anxious\"\n",
    "    INSPIRING = \"inspiring\"\n",
    "    DYNAMIC = \"dynamic\"\n",
    "    EERIE = \"eerie\"\n",
    "    SENSUAL = \"sensual\"\n",
    "    REBELLIOUS = \"rebellious\"\n",
    "    NOSTALGIC = \"nostalgic\"\n",
    "    UPLIFTING = \"uplifting\"\n",
    "    REFLECTIVE = \"reflective\"\n",
    "    PASSIONATE = \"passionate\"\n",
    "    SOPHISTICATED = \"sophisticated\"\n",
    "    SURREAL = \"surreal\"\n",
    "    JUBILANT = \"jubilant\"\n",
    "    BITTERSWEET = \"bittersweet\"\n",
    "    GRACEFUL = \"graceful\"\n",
    "    HEROIC = \"heroic\"\n",
    "    RUSTIC = \"rustic\"\n",
    "    URBAN = \"urban\"\n",
    "    MAJESTIC = \"majestic\"\n",
    "    FESTIVE = \"festive\"\n",
    "    MINIMALIST = \"minimalist\"\n",
    "    BAROQUE = \"baroque\"\n",
    "    MONOCHROME = \"monochrome\"\n",
    "\n",
    "class SongAttributes(BaseModel):\n",
    "    song_name: str\n",
    "    characteristics: List[Characteristic]\n"
   ]
  },
  {
   "cell_type": "code",
   "execution_count": null,
   "metadata": {},
   "outputs": [],
   "source": [
    "class SongAttributes(BaseModel):\n",
    "    song_name: str\n",
    "    characteristics: List[str]"
   ]
  },
  {
   "cell_type": "code",
   "execution_count": null,
   "metadata": {},
   "outputs": [],
   "source": []
  },
  {
   "cell_type": "code",
   "execution_count": null,
   "metadata": {},
   "outputs": [],
   "source": [
    "#you can also procees from parsed eg json.loads(completion_song.choices[0].message.parsed.json())\n",
    "out = completion_song.choices[0].message.content\n",
    "songs = json.loads(out)\n",
    "songs\n",
    "df = pd.DataFrame(data = [i.values() for i in list(songs.values())[0]], columns = ['name','characteristic'])\n",
    "df.set_index('name', inplace=True)\n",
    "df.to_dict().values()"
   ]
  },
  {
   "cell_type": "code",
   "execution_count": null,
   "metadata": {},
   "outputs": [],
   "source": [
    "from transformers import BertTokenizer, BertModel\n",
    "#import torch\n",
    "\n",
    "tokenizer = BertTokenizer.from_pretrained('bert-base-uncased')\n",
    "model = BertModel.from_pretrained('bert-base-uncased')\n",
    "\n",
    "def get_embeddings(texts):\n",
    "    inputs = tokenizer(texts, return_tensors='pt', padding=True, truncation=True)\n",
    "    outputs = model(**inputs)\n",
    "    return outputs.last_hidden_state.mean(dim=1).detach().numpy()\n"
   ]
  },
  {
   "cell_type": "code",
   "execution_count": null,
   "metadata": {},
   "outputs": [],
   "source": [
    "import numpy as np\n",
    "\n",
    "def average_embedding(embeddings):\n",
    "    return np.mean(embeddings, axis=0)"
   ]
  },
  {
   "cell_type": "code",
   "execution_count": null,
   "metadata": {},
   "outputs": [],
   "source": [
    "from sklearn.metrics.pairwise import cosine_similarity\n",
    "similarities = []\n",
    "for adj_A in list(d_b.values()):\n",
    "    avg_embedding_A = average_embedding(get_embeddings(adj_A))\n",
    "    for adj_B in list(d_s.values()):\n",
    "        avg_embedding_B = average_embedding(get_embeddings(adj_B))\n",
    "        similarity_score = cosine_similarity([avg_embedding_A], [avg_embedding_B])[0][0]\n",
    "        similarities.append((adj_A, adj_B, similarity_score))"
   ]
  }
 ],
 "metadata": {
  "kernelspec": {
   "display_name": "ds",
   "language": "python",
   "name": "python3"
  },
  "language_info": {
   "codemirror_mode": {
    "name": "ipython",
    "version": 3
   },
   "file_extension": ".py",
   "mimetype": "text/x-python",
   "name": "python",
   "nbconvert_exporter": "python",
   "pygments_lexer": "ipython3",
   "version": "3.8.16"
  }
 },
 "nbformat": 4,
 "nbformat_minor": 2
}
