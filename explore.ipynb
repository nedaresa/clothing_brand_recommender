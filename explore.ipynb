{
 "cells": [
  {
   "cell_type": "code",
   "execution_count": 95,
   "metadata": {},
   "outputs": [],
   "source": [
    "import json\n",
    "import pandas as pd\n",
    "#!pip install openai -U\n",
    "from openai import OpenAI\n",
    "from enum import Enum\n",
    "from typing import Optional, List\n",
    "from pydantic import BaseModel\n",
    "from pydantic import Field"
   ]
  },
  {
   "cell_type": "code",
   "execution_count": 96,
   "metadata": {},
   "outputs": [],
   "source": [
    "with open('../key/key.json') as f:\n",
    "    k = json.load(f)['key']"
   ]
  },
  {
   "cell_type": "code",
   "execution_count": 122,
   "metadata": {},
   "outputs": [
    {
     "name": "stdout",
     "output_type": "stream",
     "text": [
      "['happiness', 'sadness', 'anger', 'fear', 'disgust', 'surprise', 'trust', 'anticipation', 'joy', 'love']\n"
     ]
    }
   ],
   "source": [
    "# create one time list of 10 human emotions\n",
    "client = OpenAI(api_key=k)\n",
    "class Chr_answer(BaseModel):\n",
    "    Characteristics: List[str] = Field(None, description=\"Emotions as a list of strings\")\n",
    "\n",
    "completion = client.beta.chat.completions.parse(\n",
    "    model=\"gpt-4o-2024-08-06\",\n",
    "    messages=[\n",
    "        {\"role\": \"system\", \"content\": \"Be a helpful assistant.\"},\n",
    "        {\"role\": \"user\", \"content\": \"List 10 human emotions.\"}\n",
    "    ],\n",
    "    response_format=Chr_answer,\n",
    ")\n",
    "\n",
    "#you can also procees from parsed eg json.loads(completion_song.choices[0].message.parsed.json())\n",
    "out = json.loads(completion.choices[0].message.content)\n",
    "out = list(out.values())[0]\n",
    "emotions = out\n",
    "print(emotions)"
   ]
  },
  {
   "cell_type": "code",
   "execution_count": 123,
   "metadata": {},
   "outputs": [
    {
     "name": "stdout",
     "output_type": "stream",
     "text": [
      "{'a': [{'brand_name': 'Nike', 'characteristics': ['Joy', 'Anticipation']}, {'brand_name': 'Ralph Lauren', 'characteristics': ['Trust', 'Joy']}, {'brand_name': \"Levi's\", 'characteristics': ['Trust', 'Joy']}, {'brand_name': 'Under Armour', 'characteristics': ['Anticipation', 'Trust']}, {'brand_name': 'Tommy Hilfiger', 'characteristics': ['Trust', 'Joy']}, {'brand_name': 'Gap', 'characteristics': ['Joy', 'Trust']}, {'brand_name': 'Calvin Klein', 'characteristics': ['Love', 'Trust']}, {'brand_name': 'Michael Kors', 'characteristics': ['Joy', 'Love']}, {'brand_name': 'Guess', 'characteristics': ['Surprise', 'Joy']}, {'brand_name': 'Vans', 'characteristics': ['Joy', 'Trust']}]}\n"
     ]
    },
    {
     "data": {
      "text/html": [
       "<div>\n",
       "<style scoped>\n",
       "    .dataframe tbody tr th:only-of-type {\n",
       "        vertical-align: middle;\n",
       "    }\n",
       "\n",
       "    .dataframe tbody tr th {\n",
       "        vertical-align: top;\n",
       "    }\n",
       "\n",
       "    .dataframe thead th {\n",
       "        text-align: right;\n",
       "    }\n",
       "</style>\n",
       "<table border=\"1\" class=\"dataframe\">\n",
       "  <thead>\n",
       "    <tr style=\"text-align: right;\">\n",
       "      <th></th>\n",
       "      <th>Name</th>\n",
       "      <th>characteristic</th>\n",
       "    </tr>\n",
       "  </thead>\n",
       "  <tbody>\n",
       "    <tr>\n",
       "      <th>0</th>\n",
       "      <td>Nike</td>\n",
       "      <td>[Joy, Anticipation]</td>\n",
       "    </tr>\n",
       "    <tr>\n",
       "      <th>1</th>\n",
       "      <td>Ralph Lauren</td>\n",
       "      <td>[Trust, Joy]</td>\n",
       "    </tr>\n",
       "    <tr>\n",
       "      <th>2</th>\n",
       "      <td>Levi's</td>\n",
       "      <td>[Trust, Joy]</td>\n",
       "    </tr>\n",
       "    <tr>\n",
       "      <th>3</th>\n",
       "      <td>Under Armour</td>\n",
       "      <td>[Anticipation, Trust]</td>\n",
       "    </tr>\n",
       "    <tr>\n",
       "      <th>4</th>\n",
       "      <td>Tommy Hilfiger</td>\n",
       "      <td>[Trust, Joy]</td>\n",
       "    </tr>\n",
       "    <tr>\n",
       "      <th>5</th>\n",
       "      <td>Gap</td>\n",
       "      <td>[Joy, Trust]</td>\n",
       "    </tr>\n",
       "    <tr>\n",
       "      <th>6</th>\n",
       "      <td>Calvin Klein</td>\n",
       "      <td>[Love, Trust]</td>\n",
       "    </tr>\n",
       "    <tr>\n",
       "      <th>7</th>\n",
       "      <td>Michael Kors</td>\n",
       "      <td>[Joy, Love]</td>\n",
       "    </tr>\n",
       "    <tr>\n",
       "      <th>8</th>\n",
       "      <td>Guess</td>\n",
       "      <td>[Surprise, Joy]</td>\n",
       "    </tr>\n",
       "    <tr>\n",
       "      <th>9</th>\n",
       "      <td>Vans</td>\n",
       "      <td>[Joy, Trust]</td>\n",
       "    </tr>\n",
       "  </tbody>\n",
       "</table>\n",
       "</div>"
      ],
      "text/plain": [
       "             Name         characteristic\n",
       "0            Nike    [Joy, Anticipation]\n",
       "1    Ralph Lauren           [Trust, Joy]\n",
       "2          Levi's           [Trust, Joy]\n",
       "3    Under Armour  [Anticipation, Trust]\n",
       "4  Tommy Hilfiger           [Trust, Joy]\n",
       "5             Gap           [Joy, Trust]\n",
       "6    Calvin Klein          [Love, Trust]\n",
       "7    Michael Kors            [Joy, Love]\n",
       "8           Guess        [Surprise, Joy]\n",
       "9            Vans           [Joy, Trust]"
      ]
     },
     "execution_count": 123,
     "metadata": {},
     "output_type": "execute_result"
    }
   ],
   "source": [
    "# class Char(BaseModel): \n",
    "#     is_char: bool\n",
    "#     characteristic: Optional[Characteristic] ?\n",
    "#fiels is only defined for the first custom class?\n",
    "\n",
    "#List 10 best selling American clothing brands and, for each brand, list which one of the emotions in the given list are most closely associated with.\"\n",
    "client = OpenAI(api_key=k)\n",
    "\n",
    "class Characteristic(Enum):\n",
    "    Happiness = 'Happiness'\n",
    "    Sadness = 'Sadness'\n",
    "    Anger = 'Anger'\n",
    "    Fear = 'Fear'\n",
    "    Surprise = 'Surprise'\n",
    "    Disgust = 'Disgust'\n",
    "    Trust = 'Trust'\n",
    "    Anticipation ='Anticipation'\n",
    "    Joy ='Joy'\n",
    "    Love = 'Love'\n",
    "\n",
    "class BrandAttributes(BaseModel):\n",
    "    brand_name: str = Field(None, description=\" name as str\")\n",
    "    characteristics: List[Characteristic] = Field(None, description=\" list of characteristics as str\")\n",
    "\n",
    "\n",
    "class BrandChars(BaseModel):\n",
    "    a: List[BrandAttributes] = Field(None, description=\"List of BrandAttributes\")\n",
    "    \n",
    "completion = client.beta.chat.completions.parse(\n",
    "    model=\"gpt-4o-2024-08-06\",\n",
    "    messages=[\n",
    "        {\"role\": \"system\", \"content\": \"Be a helpful assistant.\"},\n",
    "        {\"role\": \"user\", \"content\": \"List 10 best selling American clothing brands and, for each brand, list which one of the emotions in the given list are most closely associated with.\"}\n",
    "    ],\n",
    "    response_format=BrandChars,\n",
    ")\n",
    "\n",
    "out = json.loads(completion.choices[0].message.content)\n",
    "print(out)\n",
    "out = list(out.values())[0]\n",
    "df = pd.DataFrame(data = [i.values() for i in out], columns = ['Name','characteristic'])\n",
    "df\n",
    "#df.set_index('name', inplace=True)\n",
    "#df.to_dict()"
   ]
  },
  {
   "cell_type": "code",
   "execution_count": 124,
   "metadata": {},
   "outputs": [
    {
     "data": {
      "text/plain": [
       "[{'song_name': 'Black Balloon',\n",
       "  'song_lyrics_summary': 'The song reflects on themes of love, loss, and letting go. It discusses how a relationship can be overshadowed by personal struggles and how the external problems influence both individuals.',\n",
       "  'characteristics': ['Sadness', 'Love', 'Trust']}]"
      ]
     },
     "execution_count": 124,
     "metadata": {},
     "output_type": "execute_result"
    }
   ],
   "source": [
    "#Take the example song, and list which one of the emotions in the given list are most closely associated with the song.\")\n",
    "\n",
    "client = OpenAI(api_key=k)\n",
    "\n",
    "class Characteristic(Enum):\n",
    "    Happiness = 'Happiness'\n",
    "    Sadness = 'Sadness'\n",
    "    Anger = 'Anger'\n",
    "    Fear = 'Fear'\n",
    "    Surprise = 'Surprise'\n",
    "    Disgust = 'Disgust'\n",
    "    Trust = 'Trust'\n",
    "    Anticipation ='Anticipation'\n",
    "    Joy ='Joy'\n",
    "    Love = 'Love'\n",
    "\n",
    "class SongAttributes(BaseModel):\n",
    "    song_name: str\n",
    "    song_lyrics_summary :str = Field(None, description=\"Summary as str; Don't state the exact lyrics.\")\n",
    "    characteristics: List[Characteristic]\n",
    "\n",
    "class SongsChars(BaseModel):\n",
    "    a: List[SongAttributes] = Field(None, description=\"List of song attributes.\")\n",
    "\n",
    "prompt = \"\"\"\n",
    "As prompt, take the song 'Black Balloon', list summary of its lyrics, and a list of the emotions from the given list that are most closely associated with the song.\n",
    "\"\"\"\n",
    "\n",
    "completion = client.beta.chat.completions.parse(\n",
    "    model=\"gpt-4o-2024-08-06\",\n",
    "    messages=[\n",
    "        {\"role\": \"system\", \"content\": \"Be a helpful assistant.\"},\n",
    "        {\"role\": \"user\", \"content\": prompt}\n",
    "    ],\n",
    "    response_format=SongsChars,\n",
    ")\n",
    "out = json.loads(completion.choices[0].message.content)\n",
    "out = list(out.values())[0]\n",
    "out_song = out\n",
    "out_song"
   ]
  },
  {
   "cell_type": "code",
   "execution_count": null,
   "metadata": {},
   "outputs": [],
   "source": []
  },
  {
   "cell_type": "code",
   "execution_count": null,
   "metadata": {},
   "outputs": [],
   "source": [
    "\n",
    "#OpenAI example\n",
    "#define 3 categories to be represented to the user as strings in json\n",
    "#class Category(Enum):\n",
    "#    violence = \"violence\"\n",
    "#    sexual = \"sexual\"\n",
    "#    self_harm = \"self_harm\"\n",
    "\n",
    "#defining what my data type looks like so it properly imported and exported as json\n",
    "#class ContentCompliance(BaseModel): \n",
    "#    is_violating: bool  #tell me if there is a violation and if so, classify which one of the category classes\n",
    "#    category: Optional[Category] #the type of the category could be none or category. If non violating, no need to define category\n",
    "#    explanation_if_violating: Optional[str]\n"
   ]
  }
 ],
 "metadata": {
  "kernelspec": {
   "display_name": "ds",
   "language": "python",
   "name": "python3"
  },
  "language_info": {
   "codemirror_mode": {
    "name": "ipython",
    "version": 3
   },
   "file_extension": ".py",
   "mimetype": "text/x-python",
   "name": "python",
   "nbconvert_exporter": "python",
   "pygments_lexer": "ipython3",
   "version": "3.8.16"
  }
 },
 "nbformat": 4,
 "nbformat_minor": 2
}
