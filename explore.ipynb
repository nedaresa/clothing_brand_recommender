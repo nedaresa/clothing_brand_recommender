{
 "cells": [
  {
   "cell_type": "code",
   "execution_count": null,
   "metadata": {},
   "outputs": [],
   "source": [
    "import json\n",
    "import pandas as pd\n",
    "import os\n",
    "#!pip install openai -U\n",
    "from openai import OpenAI\n",
    "from enum import Enum\n",
    "from typing import List\n",
    "from pydantic import BaseModel, Field\n",
    "client = OpenAI(api_key=os.environ.get('OPENAI_API_KEY'))\n",
    "model = \"gpt-4o-2024-08-06\""
   ]
  },
  {
   "cell_type": "code",
   "execution_count": 82,
   "metadata": {},
   "outputs": [
    {
     "data": {
      "text/plain": [
       "'{\"Characteristics\": [\"Joy\", \"Shame\", \"Envy\", \"Disgust\", \"Love\", \"Fear\", \"Surprise\", \"Anger\", \"Sadness\", \"Hope\", \"Guilt\", \"Gratitude\", \"Contempt\", \"Pride\", \"Sympathy\", \"Awe\", \"Relief\", \"Frustration\", \"Confusion\", \"Regret\", \"Amusement\", \"Empathy\", \"Despair\", \"Nostalgia\", \"Anticipation\", \"Loneliness\", \"Courage\", \"Trust\", \"Betrayal\", \"Disappointment\", \"Curiosity\", \"Contentment\", \"Admiration\", \"Euphoria\", \"Greed\", \"Humility\", \"Resilience\", \"Skepticism\", \"Insecurity\", \"Melancholy\", \"Optimism\", \"Cynicism\", \"Doubt\", \"Resentment\", \"Pleasure\", \"Worry\", \"Compassion\", \"Vulnerability\", \"Serenity\"]}'"
      ]
     },
     "execution_count": 82,
     "metadata": {},
     "output_type": "execute_result"
    }
   ],
   "source": [
    "# Get human emotions\n",
    "\n",
    "# Define the Pydantic model for the API response\n",
    "class EmotionsResponse(BaseModel):\n",
    "    Characteristics: List[str] = Field(None, description=\"List of non-redundant human emotions.\")\n",
    "\n",
    "def get_emotions(model: str) -> List[str]:\n",
    "    \"\"\"Gets a list of 50 non-redundant human emotions using the specified gpt model.\"\"\"\n",
    "    \n",
    "    # Define system and user prompts\n",
    "    system_prompt = \"Find 50 non-redundant and different human emotions. \"\\\n",
    "    \"For example, from each of these four emotion groups, only select one representative\"\\\n",
    "    \": 1: joy, happiness, 2: Shame, Embarrassment, \"\\\n",
    "    \"3: Envy, Jealousy , 4: Hate, disgust, hatered, Resentment. \"\\\n",
    "    \"So on and so forth.\"\n",
    "\n",
    "    user_prompt = \"Select 50 non-redundant and different human emotions.\"\n",
    "\n",
    "    try:\n",
    "        #Call the API to get the completion\n",
    "        completion = client.beta.chat.completions.parse(\n",
    "            model= model,\n",
    "            messages=[\n",
    "                {\"role\": \"system\", \"content\": \"Be a helpful assistant.\"},\n",
    "                {\"role\": \"system\", \"content\": system_prompt},\n",
    "                {\"role\": \"system\", \"content\": \"Did you accidentally select multiple emotions from the four emotion groups? If so, keep only one representative from each group and drop the rest.\"},\n",
    "                {\"role\": \"system\", \"content\": \"Check again for redundancy. Remember, you must only select emotions describing non-redundant human feelings.\"},\n",
    "                {\"role\": \"user\", \"content\": user_prompt}\n",
    "            ],\n",
    "            response_format=EmotionsResponse\n",
    "        )\n",
    "\n",
    "        #output returns in the defined pydantic style\n",
    "        output = completion.choices[0].message.parsed\n",
    "        return output.json()\n",
    "    \n",
    "    except Exception as e:\n",
    "        # Handle exceptions such as API errors, etc\n",
    "        print(f\"An error occurred: {e}\")\n",
    "        return []\n",
    "\n",
    "# Example usage\n",
    "emotions = get_emotions(model= model)\n",
    "emotions_ls = list(json.loads(emotions).values())[0]\n"
   ]
  },
  {
   "cell_type": "code",
   "execution_count": 83,
   "metadata": {},
   "outputs": [
    {
     "data": {
      "text/plain": [
       "['Joy', 'Shame', 'Envy', 'Resentment']"
      ]
     },
     "execution_count": 83,
     "metadata": {},
     "output_type": "execute_result"
    }
   ],
   "source": [
    "# #to check emotion redundancy by looking at example groups \n",
    "#[i for i in list(json.loads(emotions).values())[0] if i in ['Joy', 'Happiness', 'Shame', 'Embarrassment', 'Envy', 'Jealousy' , 'Hate', 'disgust', 'hatered', 'Resentment']]"
   ]
  },
  {
   "cell_type": "code",
   "execution_count": 100,
   "metadata": {},
   "outputs": [],
   "source": [
    "#Get 100 best selling American clothing brands \n",
    "\n",
    "# Define the Pydantic model for the API response\n",
    "class BrandsResponse(BaseModel):\n",
    "    Brands: List[str] = Field(None, description=\"Brands as a list of strings.\")\n",
    "\n",
    "def get_brands(model: str) -> List[str]:\n",
    "    \"\"\"Get 100 best selling American clothing brands using the specified gpt model.\"\"\"\n",
    "\n",
    "    try:\n",
    "        #Call the API to get the completion\n",
    "        completion = client.beta.chat.completions.parse(\n",
    "            model= model,\n",
    "            messages=[\n",
    "                {\"role\": \"system\", \"content\": \"Be a helpful assistant.\"},\n",
    "                {\"role\": \"system\", \"content\": \"Find 100 non-redundant best selling American clothing brands.\"},\n",
    "                {\"role\": \"system\", \"content\": \"DONT MAKE ANY MISTAKES, check if you did any.\"},\n",
    "                {\"role\": \"user\", \"content\": \"Give me 100 best selling American clothing brands.\"}\n",
    "            ],\n",
    "            response_format=BrandsResponse\n",
    "        )\n",
    "\n",
    "        #output returns in the defined pydantic style\n",
    "        output = completion.choices[0].message.parsed\n",
    "        return output.json()\n",
    "    \n",
    "    except Exception as e:\n",
    "        # Handle exceptions such as API errors, etc\n",
    "        print(f\"An error occurred: {e}\")\n",
    "        return []\n",
    "\n",
    "# Example usage\n",
    "brands = get_brands(model= model)\n",
    "brands_ls = list(json.loads(brands).values())[0]"
   ]
  },
  {
   "cell_type": "code",
   "execution_count": 124,
   "metadata": {},
   "outputs": [],
   "source": [
    "# Embedding brand in emotions space: Get association scores between an input and list of emotions\n",
    "\n",
    "Characteristic = Enum('Characteristic', dict([(emotion, emotion) for emotion in emotions]))\n",
    "\n",
    "class EmotionalAssociationScore(BaseModel):\n",
    "    emotion: Characteristic\n",
    "    score: float\n",
    "\n",
    "class EmotionalAssociationScores(BaseModel):\n",
    "    associations: List[EmotionalAssociationScore] = Field(description=\"A list of emotions and associated scores\")\n",
    "\n",
    "def emotional_association_scores(\n",
    "        thing, \n",
    "        model,\n",
    "        emotions\n",
    "    ):\n",
    "    \n",
    "    prompt = f\"Assign emotional association scores between {0} and {len(emotions)} for the provided thing. \"\\\n",
    "    \"Assign a score for each of the following emotions. Briefly, explain the reason behind the association score.\"\\\n",
    "    \"Ensure the scores reflect the association strength for the specified thing. \"\\\n",
    "    \"Thing: \"\\\n",
    "    f\"{thing}\"\n",
    "            \n",
    "    completion = client.beta.chat.completions.parse(\n",
    "        model = model,\n",
    "        messages=[\n",
    "            {\"role\": \"system\", \"content\": \"Be a helpful assistant.\"},\n",
    "            {\"role\": \"user\", \"content\": prompt}\n",
    "        ],\n",
    "        response_format=EmotionalAssociationScores,\n",
    "    )\n",
    "    #output returns in the defined pydantic style\n",
    "    output = completion.choices[0].message.parsed\n",
    "    return output.json()"
   ]
  },
  {
   "cell_type": "code",
   "execution_count": 132,
   "metadata": {},
   "outputs": [],
   "source": [
    "#Embedding brands in emotions space: \n",
    "# tried nested prompt but decided to go with one prompt and a list comprehension\n",
    "emotions= emotions_ls\n",
    "associations_brands = [(thing, emotional_association_scores(thing, model, emotions)) for thing in brands_ls[:3]]"
   ]
  },
  {
   "cell_type": "code",
   "execution_count": null,
   "metadata": {},
   "outputs": [],
   "source": [
    "#Embedding a book in emotions space: \n",
    "emotions= emotions_ls\n",
    "book = 'Summer Island'\n",
    "associations_book = [(thing, emotional_association_scores(thing, model, emotions)) for thing in list(book)]\n"
   ]
  },
  {
   "cell_type": "code",
   "execution_count": 131,
   "metadata": {},
   "outputs": [
    {
     "data": {
      "text/plain": [
       "[('Nike',\n",
       "  '{\"associations\": [{\"emotion\": \"Joy\", \"score\": 45.0}, {\"emotion\": \"Shame\", \"score\": 10.0}, {\"emotion\": \"Envy\", \"score\": 25.0}, {\"emotion\": \"Disgust\", \"score\": 5.0}, {\"emotion\": \"Love\", \"score\": 35.0}, {\"emotion\": \"Fear\", \"score\": 5.0}, {\"emotion\": \"Surprise\", \"score\": 20.0}, {\"emotion\": \"Anger\", \"score\": 10.0}, {\"emotion\": \"Sadness\", \"score\": 5.0}, {\"emotion\": \"Hope\", \"score\": 30.0}, {\"emotion\": \"Guilt\", \"score\": 10.0}, {\"emotion\": \"Gratitude\", \"score\": 20.0}, {\"emotion\": \"Contempt\", \"score\": 10.0}, {\"emotion\": \"Pride\", \"score\": 40.0}, {\"emotion\": \"Sympathy\", \"score\": 10.0}, {\"emotion\": \"Awe\", \"score\": 25.0}, {\"emotion\": \"Relief\", \"score\": 15.0}, {\"emotion\": \"Frustration\", \"score\": 15.0}, {\"emotion\": \"Confusion\", \"score\": 10.0}, {\"emotion\": \"Regret\", \"score\": 10.0}, {\"emotion\": \"Amusement\", \"score\": 20.0}, {\"emotion\": \"Empathy\", \"score\": 15.0}, {\"emotion\": \"Despair\", \"score\": 5.0}, {\"emotion\": \"Nostalgia\", \"score\": 20.0}, {\"emotion\": \"Anticipation\", \"score\": 30.0}, {\"emotion\": \"Loneliness\", \"score\": 5.0}, {\"emotion\": \"Courage\", \"score\": 20.0}, {\"emotion\": \"Trust\", \"score\": 35.0}, {\"emotion\": \"Betrayal\", \"score\": 10.0}, {\"emotion\": \"Disappointment\", \"score\": 15.0}, {\"emotion\": \"Curiosity\", \"score\": 25.0}, {\"emotion\": \"Contentment\", \"score\": 30.0}, {\"emotion\": \"Admiration\", \"score\": 35.0}, {\"emotion\": \"Euphoria\", \"score\": 35.0}, {\"emotion\": \"Greed\", \"score\": 5.0}, {\"emotion\": \"Humility\", \"score\": 10.0}, {\"emotion\": \"Resilience\", \"score\": 30.0}, {\"emotion\": \"Skepticism\", \"score\": 15.0}, {\"emotion\": \"Insecurity\", \"score\": 5.0}, {\"emotion\": \"Melancholy\", \"score\": 5.0}, {\"emotion\": \"Optimism\", \"score\": 35.0}, {\"emotion\": \"Cynicism\", \"score\": 10.0}, {\"emotion\": \"Doubt\", \"score\": 10.0}, {\"emotion\": \"Resentment\", \"score\": 5.0}, {\"emotion\": \"Pleasure\", \"score\": 40.0}, {\"emotion\": \"Worry\", \"score\": 10.0}, {\"emotion\": \"Compassion\", \"score\": 10.0}, {\"emotion\": \"Vulnerability\", \"score\": 5.0}, {\"emotion\": \"Serenity\", \"score\": 20.0}]}'),\n",
       " ('Ralph Lauren',\n",
       "  '{\"associations\": [{\"emotion\": \"Joy\", \"score\": 40.0}, {\"emotion\": \"Shame\", \"score\": 5.0}, {\"emotion\": \"Envy\", \"score\": 30.0}, {\"emotion\": \"Disgust\", \"score\": 5.0}, {\"emotion\": \"Love\", \"score\": 38.0}, {\"emotion\": \"Fear\", \"score\": 10.0}, {\"emotion\": \"Surprise\", \"score\": 20.0}, {\"emotion\": \"Anger\", \"score\": 6.0}, {\"emotion\": \"Sadness\", \"score\": 10.0}, {\"emotion\": \"Hope\", \"score\": 35.0}, {\"emotion\": \"Guilt\", \"score\": 2.0}, {\"emotion\": \"Gratitude\", \"score\": 34.0}, {\"emotion\": \"Contempt\", \"score\": 5.0}, {\"emotion\": \"Pride\", \"score\": 37.0}, {\"emotion\": \"Sympathy\", \"score\": 8.0}, {\"emotion\": \"Awe\", \"score\": 32.0}, {\"emotion\": \"Relief\", \"score\": 15.0}, {\"emotion\": \"Frustration\", \"score\": 12.0}, {\"emotion\": \"Confusion\", \"score\": 15.0}, {\"emotion\": \"Regret\", \"score\": 10.0}, {\"emotion\": \"Amusement\", \"score\": 18.0}, {\"emotion\": \"Empathy\", \"score\": 8.0}, {\"emotion\": \"Despair\", \"score\": 3.0}, {\"emotion\": \"Nostalgia\", \"score\": 25.0}, {\"emotion\": \"Anticipation\", \"score\": 29.0}, {\"emotion\": \"Loneliness\", \"score\": 5.0}, {\"emotion\": \"Courage\", \"score\": 20.0}, {\"emotion\": \"Trust\", \"score\": 35.0}, {\"emotion\": \"Betrayal\", \"score\": 4.0}, {\"emotion\": \"Disappointment\", \"score\": 12.0}, {\"emotion\": \"Curiosity\", \"score\": 27.0}, {\"emotion\": \"Contentment\", \"score\": 28.0}, {\"emotion\": \"Admiration\", \"score\": 36.0}, {\"emotion\": \"Euphoria\", \"score\": 20.0}, {\"emotion\": \"Greed\", \"score\": 15.0}, {\"emotion\": \"Humility\", \"score\": 7.0}, {\"emotion\": \"Resilience\", \"score\": 16.0}, {\"emotion\": \"Skepticism\", \"score\": 12.0}, {\"emotion\": \"Insecurity\", \"score\": 11.0}, {\"emotion\": \"Melancholy\", \"score\": 10.0}, {\"emotion\": \"Optimism\", \"score\": 29.0}, {\"emotion\": \"Cynicism\", \"score\": 10.0}, {\"emotion\": \"Doubt\", \"score\": 12.0}, {\"emotion\": \"Resentment\", \"score\": 5.0}, {\"emotion\": \"Pleasure\", \"score\": 35.0}, {\"emotion\": \"Worry\", \"score\": 10.0}, {\"emotion\": \"Compassion\", \"score\": 12.0}, {\"emotion\": \"Vulnerability\", \"score\": 8.0}, {\"emotion\": \"Serenity\", \"score\": 23.0}]}'),\n",
       " ('Calvin Klein',\n",
       "  '{\"associations\": [{\"emotion\": \"Joy\", \"score\": 35.0}, {\"emotion\": \"Shame\", \"score\": 10.0}, {\"emotion\": \"Envy\", \"score\": 30.0}, {\"emotion\": \"Disgust\", \"score\": 5.0}, {\"emotion\": \"Love\", \"score\": 28.0}, {\"emotion\": \"Fear\", \"score\": 3.0}, {\"emotion\": \"Surprise\", \"score\": 15.0}, {\"emotion\": \"Anger\", \"score\": 5.0}, {\"emotion\": \"Sadness\", \"score\": 8.0}, {\"emotion\": \"Hope\", \"score\": 20.0}, {\"emotion\": \"Guilt\", \"score\": 5.0}, {\"emotion\": \"Gratitude\", \"score\": 22.0}, {\"emotion\": \"Contempt\", \"score\": 5.0}, {\"emotion\": \"Pride\", \"score\": 40.0}, {\"emotion\": \"Sympathy\", \"score\": 10.0}, {\"emotion\": \"Awe\", \"score\": 25.0}, {\"emotion\": \"Relief\", \"score\": 12.0}, {\"emotion\": \"Frustration\", \"score\": 6.0}, {\"emotion\": \"Confusion\", \"score\": 8.0}, {\"emotion\": \"Regret\", \"score\": 7.0}, {\"emotion\": \"Amusement\", \"score\": 15.0}, {\"emotion\": \"Empathy\", \"score\": 10.0}, {\"emotion\": \"Despair\", \"score\": 4.0}, {\"emotion\": \"Nostalgia\", \"score\": 18.0}, {\"emotion\": \"Anticipation\", \"score\": 30.0}, {\"emotion\": \"Loneliness\", \"score\": 5.0}, {\"emotion\": \"Courage\", \"score\": 10.0}, {\"emotion\": \"Trust\", \"score\": 22.0}, {\"emotion\": \"Betrayal\", \"score\": 3.0}, {\"emotion\": \"Disappointment\", \"score\": 12.0}, {\"emotion\": \"Curiosity\", \"score\": 18.0}, {\"emotion\": \"Contentment\", \"score\": 28.0}, {\"emotion\": \"Admiration\", \"score\": 32.0}, {\"emotion\": \"Euphoria\", \"score\": 15.0}, {\"emotion\": \"Greed\", \"score\": 8.0}, {\"emotion\": \"Humility\", \"score\": 15.0}, {\"emotion\": \"Resilience\", \"score\": 10.0}, {\"emotion\": \"Skepticism\", \"score\": 15.0}, {\"emotion\": \"Insecurity\", \"score\": 9.0}, {\"emotion\": \"Melancholy\", \"score\": 7.0}, {\"emotion\": \"Optimism\", \"score\": 22.0}, {\"emotion\": \"Cynicism\", \"score\": 5.0}, {\"emotion\": \"Doubt\", \"score\": 8.0}, {\"emotion\": \"Resentment\", \"score\": 3.0}, {\"emotion\": \"Pleasure\", \"score\": 30.0}, {\"emotion\": \"Worry\", \"score\": 6.0}, {\"emotion\": \"Compassion\", \"score\": 12.0}, {\"emotion\": \"Vulnerability\", \"score\": 12.0}, {\"emotion\": \"Serenity\", \"score\": 20.0}]}')]"
      ]
     },
     "execution_count": 131,
     "metadata": {},
     "output_type": "execute_result"
    }
   ],
   "source": [
    "associations"
   ]
  },
  {
   "cell_type": "code",
   "execution_count": null,
   "metadata": {},
   "outputs": [],
   "source": []
  },
  {
   "cell_type": "code",
   "execution_count": null,
   "metadata": {},
   "outputs": [],
   "source": [
    "# a method\n",
    "#embedding dimension is emotions\n",
    "#talk about options\n",
    "#get the brands, go through 50 emotins at a time\n",
    "#cosine: normalize first: l2 norm = 1\n",
    "#give instructions on readme on where key goes \n",
    "#first have everything in pandas df, then think about database\n",
    "# one module or package w 1 .py \n",
    "#adaptors that take in pydantic datatypes and will make into sql\n"
   ]
  },
  {
   "cell_type": "code",
   "execution_count": null,
   "metadata": {},
   "outputs": [],
   "source": []
  },
  {
   "cell_type": "code",
   "execution_count": null,
   "metadata": {},
   "outputs": [],
   "source": []
  },
  {
   "cell_type": "code",
   "execution_count": null,
   "metadata": {},
   "outputs": [],
   "source": []
  }
 ],
 "metadata": {
  "kernelspec": {
   "display_name": "ds",
   "language": "python",
   "name": "python3"
  },
  "language_info": {
   "codemirror_mode": {
    "name": "ipython",
    "version": 3
   },
   "file_extension": ".py",
   "mimetype": "text/x-python",
   "name": "python",
   "nbconvert_exporter": "python",
   "pygments_lexer": "ipython3",
   "version": "3.8.16"
  }
 },
 "nbformat": 4,
 "nbformat_minor": 2
}
