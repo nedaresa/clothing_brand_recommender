{
 "cells": [
  {
   "cell_type": "code",
   "execution_count": null,
   "metadata": {},
   "outputs": [],
   "source": [
    "import json\n",
    "import pandas as pd\n",
    "import os\n",
    "import sqlite3\n",
    "from sklearn.metrics.pairwise import cosine_similarity\n",
    "\n",
    "from enum import Enum\n",
    "from typing import List\n",
    "from pydantic import BaseModel, Field\n",
    "\n",
    "#!pip install openai -U\n",
    "from openai import OpenAI\n",
    "\n",
    "# Set pandas to display all rows and columns\n",
    "pd.set_option('display.max_rows', None)  # Show all rows\n",
    "pd.set_option('display.max_columns', None)  # Show all columns\n",
    "pd.set_option('display.width', None)  # Adjust display width to prevent column cutting\n",
    "pd.set_option('display.max_colwidth', None)  # Show full content in columns\n",
    "\n",
    "\n",
    "key=os.environ.get('OPENAI_API_KEY')\n",
    "client = OpenAI(api_key=key)\n",
    "model = \"gpt-4o-2024-08-06\""
   ]
  },
  {
   "cell_type": "code",
   "execution_count": null,
   "metadata": {},
   "outputs": [],
   "source": [
    "#The cosine similarity ranges from -1 to 1, where:\n",
    "#1 indicates identical vectors (i.e., vectors point in the same direction).\n",
    "#0 indicates orthogonality (i.e., vectors are at a 90-degree angle to each other, no similarity).\n",
    "#-1 indicates opposite directions (i.e., vectors point in exactly opposite directions).\n",
    "#represents similarity between feature vectors, quantifying similarity between two vectors based on their direction, \n",
    "# irrespective of their magnitude.\n",
    "\n",
    "# #Confirmed no need to l2 norm vectors for sklearn's cosine similarity:\n",
    "# # Define your original vectors\n",
    "# A = np.array([[2, 3]])\n",
    "# B = np.array([[5, 4]])\n",
    "\n",
    "# # Calculate cosine similarity without normalization\n",
    "# cosine_sim_without_norm = cosine_similarity(A, B)\n",
    "\n",
    "# # L2 normalize the vectors\n",
    "# A_normalized = A / np.linalg.norm(A)\n",
    "# B_normalized = B / np.linalg.norm(B)\n",
    "\n",
    "# # Calculate cosine similarity with normalization\n",
    "# cosine_sim_with_norm = cosine_similarity(A_normalized, B_normalized)\n",
    "\n",
    "# # Print the outputs\n",
    "# print(\"Cosine Similarity without normalization:\")\n",
    "# print(cosine_sim_without_norm[0][0])  # Output from unnormalized vectors\n",
    "\n",
    "# print(\"\\nCosine Similarity with normalization:\")\n",
    "# print(cosine_sim_with_norm[0][0])      # Output from normalized vectors\n",
    "# cosine_sim_without_norm[0][0]==cosine_sim_with_norm[0][0]\n",
    "\n",
    "#embeddings happen in a much smaller space of emotions as oppossed to ordinary, more common embeddings in a large space as more commonly done with openai api (read)\n",
    "\n",
    "# a method\n",
    "#embedding dimension is emotions\n",
    "#talk about options\n",
    "#get the brands, go through 50 emotins at a time\n",
    "#cosine: normalize first: l2 norm = 1\n",
    "#give instructions on readme on where key goes \n",
    "#first have everything in pandas df, then think about database\n",
    "# one module or package w 1 .py \n",
    "#adaptors that take in pydantic datatypes and will make into sql\n",
    "#argparse"
   ]
  },
  {
   "cell_type": "code",
   "execution_count": 1087,
   "metadata": {},
   "outputs": [
    {
     "data": {
      "text/plain": [
       "4508"
      ]
     },
     "execution_count": 1087,
     "metadata": {},
     "output_type": "execute_result"
    }
   ],
   "source": [
    "49*92"
   ]
  },
  {
   "cell_type": "code",
   "execution_count": 1086,
   "metadata": {},
   "outputs": [
    {
     "name": "stdout",
     "output_type": "stream",
     "text": [
      "Tables in the database: []\n"
     ]
    }
   ],
   "source": [
    "#test/edit/read from the database\n",
    "#check the databse tables, drop tables and check again: testing check_emotions_exists and check_brands_exists\n",
    "with sqlite3.connect(os.path.abspath('database.db')) as conn:\n",
    "    cursor = conn.cursor()\n",
    "    cursor.execute(\"SELECT name FROM sqlite_master WHERE type='table';\")\n",
    "    tables = cursor.fetchall()\n",
    "    print(\"Tables in the database:\", tables)\n",
    "    for table in tables:\n",
    "        query = f'SELECT * FROM {table[0]}' \n",
    "        table = pd.read_sql_query(query, conn)\n",
    "        print(table.head())\n",
    "        print(table.shape)\n",
    "        \n",
    "# # Drop all tables and check again the above works\n",
    "# with sqlite3.connect(os.path.abspath('database.db')) as conn:\n",
    "#     cursor = conn.cursor()\n",
    "#     cursor.execute(\"SELECT name FROM sqlite_master WHERE type='table';\")\n",
    "#     tables = cursor.fetchall()\n",
    "#     print(\"Tables in the database:\", tables)\n",
    "#     for table in tables:\n",
    "#         cursor.execute(f\"DROP TABLE IF EXISTS {table[0]};\")\n",
    "#         print(f\"Table {table[0]} dropped\")\n",
    "#     conn.commit()\n",
    "\n",
    "#drop one table\n",
    "# with sqlite3.connect(os.path.abspath('database.db')) as conn:\n",
    "#     cursor = conn.cursor()\n",
    "#     cursor.execute(\"SELECT name FROM sqlite_master WHERE type='table' AND name in ('emotions');\")\n",
    "#     tables = cursor.fetchall()\n",
    "#     for table in tables:\n",
    "#         cursor.execute(f\"DROP TABLE IF EXISTS {table[0]};\")\n",
    "#         print(f\"Table {table[0]} dropped\")\n",
    "#     conn.commit()\n",
    "\n",
    "#read one table\n",
    "# with sqlite3.connect(os.path.abspath('database.db')) as conn:\n",
    "#     cursor = conn.cursor()\n",
    "#     cursor.execute(\"SELECT name FROM sqlite_master WHERE type='table' AND name ='association_scores';\")\n",
    "#     query = \"SELECT * FROM 'association_scores'\" \n",
    "#     df = pd.read_sql_query(query, conn)"
   ]
  }
 ],
 "metadata": {
  "kernelspec": {
   "display_name": "ds",
   "language": "python",
   "name": "python3"
  },
  "language_info": {
   "codemirror_mode": {
    "name": "ipython",
    "version": 3
   },
   "file_extension": ".py",
   "mimetype": "text/x-python",
   "name": "python",
   "nbconvert_exporter": "python",
   "pygments_lexer": "ipython3",
   "version": "3.8.16"
  }
 },
 "nbformat": 4,
 "nbformat_minor": 2
}
