{
 "cells": [
  {
   "cell_type": "code",
   "execution_count": null,
   "metadata": {},
   "outputs": [],
   "source": [
    "import json\n",
    "import pandas as pd\n",
    "#!pip install openai -U\n",
    "from openai import OpenAI\n",
    "from enum import Enum\n",
    "from typing import Optional, List\n",
    "from pydantic import BaseModel\n",
    "from pydantic import Field"
   ]
  },
  {
   "cell_type": "code",
   "execution_count": null,
   "metadata": {},
   "outputs": [],
   "source": [
    "with open('../key/key.json') as f:\n",
    "    k = json.load(f)['key']"
   ]
  },
  {
   "cell_type": "code",
   "execution_count": null,
   "metadata": {},
   "outputs": [],
   "source": [
    "# create one time list of 10 human emotions\n",
    "client = OpenAI(api_key=k)\n",
    "class Chr_answer(BaseModel):\n",
    "    Characteristics: List[str] = Field(None, description=\"Emotions as a list of strings\")\n",
    "\n",
    "completion = client.beta.chat.completions.parse(\n",
    "    model=\"gpt-4o-2024-08-06\",\n",
    "    messages=[\n",
    "        {\"role\": \"system\", \"content\": \"Be a helpful assistant.\"},\n",
    "        {\"role\": \"user\", \"content\": \"List 30 human emotions that describe diffnon redundant human feelings.\"}\n",
    "    ],\n",
    "    response_format=Chr_answer,\n",
    ")\n",
    "\n",
    "#you can also procees from parsed eg json.loads(completion_song.choices[0].message.parsed.json())\n",
    "out = json.loads(completion.choices[0].message.content)\n",
    "out = list(out.values())[0]\n",
    "emotions = out\n",
    "print(emotions)"
   ]
  },
  {
   "cell_type": "code",
   "execution_count": null,
   "metadata": {},
   "outputs": [],
   "source": [
    "# class Char(BaseModel): \n",
    "#     is_char: bool\n",
    "#     characteristic: Optional[Characteristic] ?\n",
    "#fiels is only defined for the first custom class?\n",
    "\n",
    "#List 10 best selling American clothing brands and, for each brand, list which one of the emotions in the given list are most closely associated with.\"\n",
    "client = OpenAI(api_key=k)\n",
    "\n",
    "# class Characteristic(Enum):\n",
    "#     Happiness = 'Happiness'\n",
    "#     Sadness = 'Sadness'\n",
    "#     Anger = 'Anger'\n",
    "#     Fear = 'Fear'\n",
    "#     Surprise = 'Surprise'\n",
    "#     Disgust = 'Disgust'\n",
    "#     Trust = 'Trust'\n",
    "#     Anticipation ='Anticipation'\n",
    "#     Joy ='Joy'\n",
    "#     Love = 'Love'\n",
    "\n",
    "# class BrandAttributes(BaseModel):\n",
    "#     brand_name: str = Field(None, description=\" name as str\")\n",
    "#     characteristics: List[Characteristic] = Field(None, description=\" list of characteristics as str\")\n",
    "\n",
    "Characteristic = Enum('Characteristic', dict([(i, i) for i in emotions])) #MyEnumType = Enum('MyEnumType', myEnumStrings)\n",
    "\n",
    "class BrandAttributes(BaseModel):\n",
    "    brand_name: str = Field(None, description=\" name as str\")\n",
    "    characteristics: List[Characteristic] = Field(None, description=\" list of characteristics as str\")\n",
    "\n",
    "class BrandChars(BaseModel):\n",
    "    a: List[BrandAttributes] = Field(None, description=\"List of BrandAttributes\")\n",
    "    \n",
    "completion = client.beta.chat.completions.parse(\n",
    "    model=\"gpt-4o-2024-08-06\",\n",
    "    messages=[\n",
    "        {\"role\": \"system\", \"content\": \"Be a helpful assistant.\"},\n",
    "        {\"role\": \"user\", \"content\": \"List 30 best selling American clothing brands and, for each brand, list which one of the emotions in the given list are most closely associated with.\"}\n",
    "    ],\n",
    "    response_format=BrandChars,\n",
    ")\n",
    "\n",
    "out = json.loads(completion.choices[0].message.content)\n",
    "brand_emotions = out\n",
    "out = list(out.values())[0]\n",
    "df_brand = pd.DataFrame(data = [i.values() for i in out], columns = ['Name','characteristic'])\n",
    "df_brand"
   ]
  },
  {
   "cell_type": "code",
   "execution_count": null,
   "metadata": {},
   "outputs": [],
   "source": [
    "#Take the example song, and list which one of the emotions in the given list are most closely associated with the song.\")\n",
    "\n",
    "client = OpenAI(api_key=k)\n",
    "\n",
    "Characteristic = Enum('Characteristic', dict([(i, i) for i in emotions])) \n",
    "\n",
    "class SongAttributes(BaseModel):\n",
    "    song_name: str\n",
    "    song_lyrics_summary :str = Field(None, description=\"Summary as str; Don't state the exact lyrics.\")\n",
    "    characteristics: List[Characteristic]\n",
    "\n",
    "class SongsChars(BaseModel):\n",
    "    a: List[SongAttributes] = Field(None, description=\"List of song attributes.\")\n",
    "\n",
    "prompt = \"\"\"\n",
    "As prompt, take the song 'Black Balloon', list summary of its lyrics, and a list of the emotions from the given list that are most closely associated with the song.\n",
    "\"\"\"\n",
    "\n",
    "completion = client.beta.chat.completions.parse(\n",
    "    model=\"gpt-4o-2024-08-06\",\n",
    "    messages=[\n",
    "        {\"role\": \"system\", \"content\": \"Be a helpful assistant.\"},\n",
    "        {\"role\": \"user\", \"content\": prompt}\n",
    "    ],\n",
    "    response_format=SongsChars,\n",
    ")\n",
    "out = json.loads(completion.choices[0].message.content)\n",
    "out = list(out.values())[0]\n",
    "df_song = pd.DataFrame(data = [i.values() for i in out], columns = ['Name','lyrics_summary', 'characteristic'])\n",
    "df_song"
   ]
  },
  {
   "cell_type": "code",
   "execution_count": null,
   "metadata": {},
   "outputs": [],
   "source": [
    "#MultilabelBinarize brands and song\n",
    "from sklearn.preprocessing import MultiLabelBinarizer\n",
    "\n",
    "mlb = MultiLabelBinarizer(classes=emotions)\n",
    "\n",
    "df_brand2 = pd.DataFrame(mlb.fit_transform(df_brand['characteristic']), columns = emotions)\n",
    "df_brand_mb = pd.merge(df_brand2, df_brand[['Name']], how ='left', left_index=True, right_index=True)\n",
    "df_brand_mb.head()\n"
   ]
  },
  {
   "cell_type": "code",
   "execution_count": null,
   "metadata": {},
   "outputs": [],
   "source": [
    "mlb = MultiLabelBinarizer(classes=emotions)\n",
    "\n",
    "df_song2 = pd.DataFrame(mlb.fit_transform(df_song['characteristic']), columns = emotions)\n",
    "df_song_mb = pd.merge(df_song2, df_song[['Name']], how ='left', left_index=True, right_index=True)\n",
    "df_song_mb.head()\n",
    "\n",
    "#song_e = list(song_emotions[0].values())[2]\n",
    "\n",
    "#df_song = pd.DataFrame(mlb.fit_transform([song_e]), columns = emotions, index=[list(song_emotions[0].keys())[0]])\n",
    "#df_song"
   ]
  },
  {
   "cell_type": "code",
   "execution_count": null,
   "metadata": {},
   "outputs": [],
   "source": [
    "from sklearn.neighbors import KNeighborsClassifier \n",
    "from sklearn.model_selection import train_test_split \n",
    "  \n",
    "# Create feature and target arrays \n",
    "X = df_brand_mb.drop(['Name'], axis =1)\n",
    "y = df_brand_mb['Name'] \n",
    "  \n",
    "# Split into training and test set \n",
    "X_train, X_test, y_train, y_test = train_test_split( \n",
    "             X, y, test_size = 0.2, random_state=42) \n",
    "  \n",
    "knn = KNeighborsClassifier(n_neighbors=3) \n",
    "  \n",
    "knn.fit(X_train, y_train) \n",
    "  \n",
    "# Predict on dataset which model has not seen before \n",
    "print(knn.predict(X_test.values))"
   ]
  },
  {
   "cell_type": "code",
   "execution_count": null,
   "metadata": {},
   "outputs": [],
   "source": [
    "X_test"
   ]
  },
  {
   "cell_type": "code",
   "execution_count": null,
   "metadata": {},
   "outputs": [],
   "source": [
    "#take a look\n",
    "df_brand_mb[df_brand_mb['Name'].isin(list(knn.predict(X_test.values)))]"
   ]
  },
  {
   "cell_type": "code",
   "execution_count": null,
   "metadata": {},
   "outputs": [],
   "source": []
  },
  {
   "cell_type": "code",
   "execution_count": null,
   "metadata": {},
   "outputs": [],
   "source": []
  }
 ],
 "metadata": {
  "kernelspec": {
   "display_name": "ds",
   "language": "python",
   "name": "python3"
  },
  "language_info": {
   "codemirror_mode": {
    "name": "ipython",
    "version": 3
   },
   "file_extension": ".py",
   "mimetype": "text/x-python",
   "name": "python",
   "nbconvert_exporter": "python",
   "pygments_lexer": "ipython3",
   "version": "3.8.16"
  }
 },
 "nbformat": 4,
 "nbformat_minor": 2
}
