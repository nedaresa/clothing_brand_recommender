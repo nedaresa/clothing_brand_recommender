{
 "cells": [
  {
   "cell_type": "code",
   "execution_count": null,
   "metadata": {},
   "outputs": [],
   "source": [
    "import json\n",
    "import pandas as pd\n",
    "#!pip install openai -U\n",
    "from openai import OpenAI\n",
    "from enum import Enum\n",
    "from typing import Optional, List\n",
    "from pydantic import BaseModel\n",
    "from pydantic import Field"
   ]
  },
  {
   "cell_type": "code",
   "execution_count": null,
   "metadata": {},
   "outputs": [],
   "source": [
    "with open('../key/key.json') as f:\n",
    "    k = json.load(f)['key']"
   ]
  },
  {
   "cell_type": "code",
   "execution_count": null,
   "metadata": {},
   "outputs": [],
   "source": [
    "# create one time list of 10 human emotions\n",
    "client = OpenAI(api_key=k)\n",
    "class Chr_answer(BaseModel):\n",
    "    Characteristics: List[str] = Field(None, description=\"Emotions as a list of strings\")\n",
    "\n",
    "completion = client.beta.chat.completions.parse(\n",
    "    model=\"gpt-4o-2024-08-06\",\n",
    "    messages=[\n",
    "        {\"role\": \"system\", \"content\": \"Be a helpful assistant.\"},\n",
    "        {\"role\": \"user\", \"content\": \"List 10 human emotions.\"}\n",
    "    ],\n",
    "    response_format=Chr_answer,\n",
    ")\n",
    "\n",
    "#you can also procees from parsed eg json.loads(completion_song.choices[0].message.parsed.json())\n",
    "out = json.loads(completion.choices[0].message.content)\n",
    "out = list(out.values())[0]\n",
    "emotions = out\n",
    "print(emotions)"
   ]
  },
  {
   "cell_type": "code",
   "execution_count": null,
   "metadata": {},
   "outputs": [],
   "source": [
    "# class Char(BaseModel): \n",
    "#     is_char: bool\n",
    "#     characteristic: Optional[Characteristic] ?\n",
    "#fiels is only defined for the first custom class?\n",
    "\n",
    "#List 10 best selling American clothing brands and, for each brand, list which one of the emotions in the given list are most closely associated with.\"\n",
    "client = OpenAI(api_key=k)\n",
    "\n",
    "class Characteristic(Enum):\n",
    "    Happiness = 'Happiness'\n",
    "    Sadness = 'Sadness'\n",
    "    Anger = 'Anger'\n",
    "    Fear = 'Fear'\n",
    "    Surprise = 'Surprise'\n",
    "    Disgust = 'Disgust'\n",
    "    Trust = 'Trust'\n",
    "    Anticipation ='Anticipation'\n",
    "    Joy ='Joy'\n",
    "    Love = 'Love'\n",
    "\n",
    "class BrandAttributes(BaseModel):\n",
    "    brand_name: str = Field(None, description=\" name as str\")\n",
    "    characteristics: List[Characteristic] = Field(None, description=\" list of characteristics as str\")\n",
    "\n",
    "\n",
    "class BrandChars(BaseModel):\n",
    "    a: List[BrandAttributes] = Field(None, description=\"List of BrandAttributes\")\n",
    "    \n",
    "completion = client.beta.chat.completions.parse(\n",
    "    model=\"gpt-4o-2024-08-06\",\n",
    "    messages=[\n",
    "        {\"role\": \"system\", \"content\": \"Be a helpful assistant.\"},\n",
    "        {\"role\": \"user\", \"content\": \"List 10 best selling American clothing brands and, for each brand, list which one of the emotions in the given list are most closely associated with.\"}\n",
    "    ],\n",
    "    response_format=BrandChars,\n",
    ")\n",
    "\n",
    "out = json.loads(completion.choices[0].message.content)\n",
    "brand_emotions = out\n",
    "out = list(out.values())[0]\n",
    "df = pd.DataFrame(data = [i.values() for i in out], columns = ['Name','characteristic'])\n",
    "df\n",
    "#df.set_index('name', inplace=True)\n",
    "#df.to_dict()"
   ]
  },
  {
   "cell_type": "code",
   "execution_count": null,
   "metadata": {},
   "outputs": [],
   "source": [
    "#Take the example song, and list which one of the emotions in the given list are most closely associated with the song.\")\n",
    "\n",
    "client = OpenAI(api_key=k)\n",
    "\n",
    "class Characteristic(Enum):\n",
    "    Happiness = 'Happiness'\n",
    "    Sadness = 'Sadness'\n",
    "    Anger = 'Anger'\n",
    "    Fear = 'Fear'\n",
    "    Surprise = 'Surprise'\n",
    "    Disgust = 'Disgust'\n",
    "    Trust = 'Trust'\n",
    "    Anticipation ='Anticipation'\n",
    "    Joy ='Joy'\n",
    "    Love = 'Love'\n",
    "\n",
    "class SongAttributes(BaseModel):\n",
    "    song_name: str\n",
    "    song_lyrics_summary :str = Field(None, description=\"Summary as str; Don't state the exact lyrics.\")\n",
    "    characteristics: List[Characteristic]\n",
    "\n",
    "class SongsChars(BaseModel):\n",
    "    a: List[SongAttributes] = Field(None, description=\"List of song attributes.\")\n",
    "\n",
    "prompt = \"\"\"\n",
    "As prompt, take the song 'Black Balloon', list summary of its lyrics, and a list of the emotions from the given list that are most closely associated with the song.\n",
    "\"\"\"\n",
    "\n",
    "completion = client.beta.chat.completions.parse(\n",
    "    model=\"gpt-4o-2024-08-06\",\n",
    "    messages=[\n",
    "        {\"role\": \"system\", \"content\": \"Be a helpful assistant.\"},\n",
    "        {\"role\": \"user\", \"content\": prompt}\n",
    "    ],\n",
    "    response_format=SongsChars,\n",
    ")\n",
    "out = json.loads(completion.choices[0].message.content)\n",
    "out = list(out.values())[0]\n",
    "song_emotions = out\n",
    "song_emotions"
   ]
  },
  {
   "cell_type": "code",
   "execution_count": null,
   "metadata": {},
   "outputs": [],
   "source": [
    "#finding an optimal text embedding:\n",
    "\n",
    "#First embed them since used by most methods:\n",
    "#One way is to use Word2Vec and need to install spaCy: first make sure that pip, setuptools and wheel are up to date.\n",
    "#!pip install -U pip setuptools wheel\n",
    "!pip install -U spacy"
   ]
  },
  {
   "cell_type": "code",
   "execution_count": null,
   "metadata": {},
   "outputs": [],
   "source": [
    "!python -m spacy download en_core_web_md #gives error 'AttributeError: module 'numpy' has no attribute 'typeDict''. Numpy version '1.24.4') so trying #pip install numpy==1.21\n"
   ]
  },
  {
   "cell_type": "code",
   "execution_count": null,
   "metadata": {},
   "outputs": [],
   "source": [
    "#import numpy \n",
    "#numpy.version.version "
   ]
  },
  {
   "cell_type": "code",
   "execution_count": null,
   "metadata": {},
   "outputs": [],
   "source": [
    "!python -m spacy download en_core_web_md "
   ]
  },
  {
   "cell_type": "code",
   "execution_count": null,
   "metadata": {},
   "outputs": [],
   "source": [
    "import spacy\n",
    "spacy.load('en_core_web_md')\n"
   ]
  },
  {
   "cell_type": "code",
   "execution_count": null,
   "metadata": {},
   "outputs": [],
   "source": [
    "\n",
    "\n",
    "embeddings = [nlp(sentence).vector for sentence in sentences]\n",
    "distance = euclidean_distance(embeddings[0], embeddings[1])\n",
    "print(distance)\n",
    "\n",
    "# OUTPUT\n",
    "1.8646982721454675\n",
    "\n",
    "A = ['satisfied','happy']\n",
    "B= ['Sadness', 'Love', 'Trust']\n",
    "def jaccard_similarity(x,y):\n",
    "  \"\"\" returns the jaccard similarity between two lists \"\"\"\n",
    "  intersection_cardinality = len(set.intersection(*[set(x), set(y)]))\n",
    "  union_cardinality = len(set.union(*[set(x), set(y)]))\n",
    "  return intersection_cardinality/float(union_cardinality)\n",
    "\n",
    "print('Jaccard Similarity:', jaccard_similarity(A,B))"
   ]
  },
  {
   "cell_type": "code",
   "execution_count": null,
   "metadata": {},
   "outputs": [],
   "source": [
    "from math import sqrt, pow, exp\n",
    " \n",
    "def squared_sum(x):\n",
    "  \"\"\" return 3 rounded square rooted value \"\"\"\n",
    " \n",
    "  return round(sqrt(sum([a*a for a in x])),3)\n",
    " \n",
    "def euclidean_distance(x,y):\n",
    "  \"\"\" return euclidean distance between two lists \"\"\"\n",
    " \n",
    "  return sqrt(sum(pow(a-b,2) for a, b in zip(x, y)))"
   ]
  },
  {
   "cell_type": "code",
   "execution_count": null,
   "metadata": {},
   "outputs": [],
   "source": [
    "\n",
    "#OpenAI example\n",
    "#define 3 categories to be represented to the user as strings in json\n",
    "#class Category(Enum):\n",
    "#    violence = \"violence\"\n",
    "#    sexual = \"sexual\"\n",
    "#    self_harm = \"self_harm\"\n",
    "\n",
    "#defining what my data type looks like so it properly imported and exported as json\n",
    "#class ContentCompliance(BaseModel): \n",
    "#    is_violating: bool  #tell me if there is a violation and if so, classify which one of the category classes\n",
    "#    category: Optional[Category] #the type of the category could be none or category. If non violating, no need to define category\n",
    "#    explanation_if_violating: Optional[str]\n"
   ]
  }
 ],
 "metadata": {
  "kernelspec": {
   "display_name": "ds",
   "language": "python",
   "name": "python3"
  },
  "language_info": {
   "codemirror_mode": {
    "name": "ipython",
    "version": 3
   },
   "file_extension": ".py",
   "mimetype": "text/x-python",
   "name": "python",
   "nbconvert_exporter": "python",
   "pygments_lexer": "ipython3",
   "version": "3.8.16"
  }
 },
 "nbformat": 4,
 "nbformat_minor": 2
}
