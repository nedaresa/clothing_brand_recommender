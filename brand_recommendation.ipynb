{
 "cells": [
  {
   "cell_type": "code",
   "execution_count": null,
   "metadata": {},
   "outputs": [],
   "source": [
    "#!pip install openai\n",
    "#!pip install transformers\n",
    "#!pip install torch torchvision\n",
    "\n",
    "import json\n",
    "import pandas as pd\n",
    "from openai import OpenAI\n",
    "from io import StringIO\n",
    "import re\n"
   ]
  },
  {
   "cell_type": "code",
   "execution_count": null,
   "metadata": {},
   "outputs": [],
   "source": [
    "with open('../key/key.json') as f:\n",
    "    k = json.load(f)['key']"
   ]
  },
  {
   "cell_type": "code",
   "execution_count": null,
   "metadata": {},
   "outputs": [],
   "source": [
    "client = OpenAI(api_key=k)"
   ]
  },
  {
   "cell_type": "code",
   "execution_count": null,
   "metadata": {},
   "outputs": [],
   "source": [
    "chat_completion_b = client.chat.completions.create(\n",
    "    messages=[\n",
    "        {\n",
    "            \"role\": \"user\",\n",
    "            \"content\": \"Give me a list of 10 top selling both gender clothing brand names in US and for each brand list 2 single word dominant characteristics of the brand shoppers.\",\n",
    "        }\n",
    "    ],\n",
    "    model=\"gpt-4o-mini\"\n",
    ")"
   ]
  },
  {
   "cell_type": "code",
   "execution_count": null,
   "metadata": {},
   "outputs": [],
   "source": [
    "chat_completion_s = client.chat.completions.create(\n",
    "    messages=[\n",
    "        {\n",
    "            \"role\": \"user\",\n",
    "            \"content\": \"Give me a list of 10 best selling song names and for each song list 2 single word dominant emotions that the song inspires. No singer names.\",\n",
    "        }\n",
    "    ],\n",
    "    model=\"gpt-4o-mini\"\n",
    ")"
   ]
  },
  {
   "cell_type": "code",
   "execution_count": null,
   "metadata": {},
   "outputs": [],
   "source": [
    "brands = chat_completion_b.choices[0].message.content\n",
    "brands = brands.split('\\n')\n",
    "b = [i for i in brands[1:-1] if i not in ['']]\n",
    "b = [re.sub(r'[^a-zA-Z]','',i) for i in b]\n",
    "b_n = b[::3]\n",
    "b_chr = [i for i in b if i not in b[::3]]\n",
    "b_chr = [tuple(b_chr[i::+1][0:2]) for i in range(0,len(b_chr),2)]\n",
    "d_b = dict(zip(b_n,b_chr))"
   ]
  },
  {
   "cell_type": "code",
   "execution_count": null,
   "metadata": {},
   "outputs": [],
   "source": [
    "songs = chat_completion_s.choices[0].message.content\n",
    "songs = songs.split('\\n')\n",
    "s = [i for i in songs[1:-1] if i not in ['']]\n",
    "s = [i.split(':')[-1] for i in s]\n",
    "s = [re.sub(r'[^a-zA-Z]','',i) for i in s]\n",
    "s_n = s[::3]\n",
    "s_chr = [i for i in s if i not in s[::3]]\n",
    "s_chr = [tuple(s_chr[i::+1][0:2]) for i in range(0,len(s_chr),2)]\n",
    "d_s = dict(zip(s_n,s_chr))"
   ]
  },
  {
   "cell_type": "code",
   "execution_count": null,
   "metadata": {},
   "outputs": [],
   "source": [
    "print(d_b)\n",
    "d_s"
   ]
  },
  {
   "cell_type": "code",
   "execution_count": null,
   "metadata": {},
   "outputs": [],
   "source": [
    "#remove songs and brands with less than 2 adjectives.\n",
    "tuple_size_to_remove = [0,1]\n",
    "d_b = {k: v for k, v in d_b.items() if len(v) not in tuple_size_to_remove}\n",
    "d_s = {k: v for k, v in d_s.items() if len(v) not in tuple_size_to_remove}\n",
    "\n"
   ]
  },
  {
   "cell_type": "code",
   "execution_count": null,
   "metadata": {},
   "outputs": [],
   "source": [
    "from transformers import BertTokenizer, BertModel\n",
    "#import torch\n",
    "\n",
    "tokenizer = BertTokenizer.from_pretrained('bert-base-uncased')\n",
    "model = BertModel.from_pretrained('bert-base-uncased')\n",
    "\n",
    "def get_embeddings(texts):\n",
    "    inputs = tokenizer(texts, return_tensors='pt', padding=True, truncation=True)\n",
    "    outputs = model(**inputs)\n",
    "    return outputs.last_hidden_state.mean(dim=1).detach().numpy()"
   ]
  },
  {
   "cell_type": "code",
   "execution_count": null,
   "metadata": {},
   "outputs": [],
   "source": [
    "import numpy as np\n",
    "\n",
    "def average_embedding(embeddings):\n",
    "    return np.mean(embeddings, axis=0)"
   ]
  },
  {
   "cell_type": "code",
   "execution_count": null,
   "metadata": {},
   "outputs": [],
   "source": [
    "from sklearn.metrics.pairwise import cosine_similarity\n",
    "similarities = []\n",
    "for adj_A in list(d_b.values()):\n",
    "    avg_embedding_A = average_embedding(get_embeddings(adj_A))\n",
    "    for adj_B in list(d_s.values()):\n",
    "        avg_embedding_B = average_embedding(get_embeddings(adj_B))\n",
    "        similarity_score = cosine_similarity([avg_embedding_A], [avg_embedding_B])[0][0]\n",
    "        similarities.append((adj_A, adj_B, similarity_score))"
   ]
  },
  {
   "cell_type": "code",
   "execution_count": null,
   "metadata": {},
   "outputs": [],
   "source": [
    "df = pd.DataFrame(similarities, columns = ['b_chr', 's_em', 'cosine'])\n",
    "inverted_d_b = {v: k for k, v in d_b.items()}\n",
    "inverted_d_s = {v: k for k, v in d_s.items()}\n",
    "df['song'] = df['s_em'].map(inverted_d_s)\n",
    "df['brand'] = df['b_chr'].map(inverted_d_b)\n",
    "df['cosine'] = df['cosine'].apply(lambda x: round(x, 2))\n"
   ]
  },
  {
   "cell_type": "code",
   "execution_count": null,
   "metadata": {},
   "outputs": [],
   "source": [
    "pd.set_option(\"display.max_rows\", None)\n",
    "df = df[['brand','b_chr','song','s_em','cosine']]"
   ]
  },
  {
   "cell_type": "code",
   "execution_count": null,
   "metadata": {},
   "outputs": [],
   "source": [
    "df.sort_values(['brand','cosine'], ascending = [True, False], inplace = True)\n",
    "df = df.groupby('brand').head(3)\n",
    "df"
   ]
  },
  {
   "cell_type": "code",
   "execution_count": null,
   "metadata": {},
   "outputs": [],
   "source": [
    "np.mean(get_embeddings(('joy','happy')),axis=0).shape"
   ]
  },
  {
   "cell_type": "code",
   "execution_count": null,
   "metadata": {},
   "outputs": [],
   "source": []
  }
 ],
 "metadata": {
  "kernelspec": {
   "display_name": "ds",
   "language": "python",
   "name": "python3"
  },
  "language_info": {
   "codemirror_mode": {
    "name": "ipython",
    "version": 3
   },
   "file_extension": ".py",
   "mimetype": "text/x-python",
   "name": "python",
   "nbconvert_exporter": "python",
   "pygments_lexer": "ipython3",
   "version": "3.8.16"
  }
 },
 "nbformat": 4,
 "nbformat_minor": 2
}
